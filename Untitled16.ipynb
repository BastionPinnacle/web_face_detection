{
  "nbformat": 4,
  "nbformat_minor": 0,
  "metadata": {
    "colab": {
      "provenance": [],
      "authorship_tag": "ABX9TyOhCeay3k0VRXBHMh1Mgg5E",
      "include_colab_link": true
    },
    "kernelspec": {
      "name": "python3",
      "display_name": "Python 3"
    },
    "language_info": {
      "name": "python"
    }
  },
  "cells": [
    {
      "cell_type": "markdown",
      "metadata": {
        "id": "view-in-github",
        "colab_type": "text"
      },
      "source": [
        "<a href=\"https://colab.research.google.com/github/BastionPinnacle/web_face_detection/blob/feature%2Fdata_cleaning/Untitled16.ipynb\" target=\"_parent\"><img src=\"https://colab.research.google.com/assets/colab-badge.svg\" alt=\"Open In Colab\"/></a>"
      ]
    },
    {
      "cell_type": "code",
      "execution_count": null,
      "metadata": {
        "id": "Q7cVC0yVDQ1A"
      },
      "outputs": [],
      "source": [
        "from google.colab import drive"
      ]
    },
    {
      "cell_type": "code",
      "source": [
        "drive.mount('/content/gdrive')"
      ],
      "metadata": {
        "colab": {
          "base_uri": "https://localhost:8080/"
        },
        "id": "MVd7DcXlDWJY",
        "outputId": "3550991f-1ad8-4ef3-ae9d-7cce4625ba83"
      },
      "execution_count": null,
      "outputs": [
        {
          "output_type": "stream",
          "name": "stdout",
          "text": [
            "Mounted at /content/gdrive\n"
          ]
        }
      ]
    },
    {
      "cell_type": "code",
      "source": [
        "from google.colab import files"
      ],
      "metadata": {
        "id": "FcL2v60VDjhk"
      },
      "execution_count": null,
      "outputs": []
    },
    {
      "cell_type": "code",
      "source": [
        "files.upload()"
      ],
      "metadata": {
        "colab": {
          "base_uri": "https://localhost:8080/",
          "height": 90
        },
        "id": "tL2cFRs3DmmY",
        "outputId": "8191d9c9-fb97-435b-955b-5ce6e45bf933"
      },
      "execution_count": null,
      "outputs": [
        {
          "output_type": "display_data",
          "data": {
            "text/plain": [
              "<IPython.core.display.HTML object>"
            ],
            "text/html": [
              "\n",
              "     <input type=\"file\" id=\"files-759c8074-e3e8-4934-bb49-4ce2158340b6\" name=\"files[]\" multiple disabled\n",
              "        style=\"border:none\" />\n",
              "     <output id=\"result-759c8074-e3e8-4934-bb49-4ce2158340b6\">\n",
              "      Upload widget is only available when the cell has been executed in the\n",
              "      current browser session. Please rerun this cell to enable.\n",
              "      </output>\n",
              "      <script>// Copyright 2017 Google LLC\n",
              "//\n",
              "// Licensed under the Apache License, Version 2.0 (the \"License\");\n",
              "// you may not use this file except in compliance with the License.\n",
              "// You may obtain a copy of the License at\n",
              "//\n",
              "//      http://www.apache.org/licenses/LICENSE-2.0\n",
              "//\n",
              "// Unless required by applicable law or agreed to in writing, software\n",
              "// distributed under the License is distributed on an \"AS IS\" BASIS,\n",
              "// WITHOUT WARRANTIES OR CONDITIONS OF ANY KIND, either express or implied.\n",
              "// See the License for the specific language governing permissions and\n",
              "// limitations under the License.\n",
              "\n",
              "/**\n",
              " * @fileoverview Helpers for google.colab Python module.\n",
              " */\n",
              "(function(scope) {\n",
              "function span(text, styleAttributes = {}) {\n",
              "  const element = document.createElement('span');\n",
              "  element.textContent = text;\n",
              "  for (const key of Object.keys(styleAttributes)) {\n",
              "    element.style[key] = styleAttributes[key];\n",
              "  }\n",
              "  return element;\n",
              "}\n",
              "\n",
              "// Max number of bytes which will be uploaded at a time.\n",
              "const MAX_PAYLOAD_SIZE = 100 * 1024;\n",
              "\n",
              "function _uploadFiles(inputId, outputId) {\n",
              "  const steps = uploadFilesStep(inputId, outputId);\n",
              "  const outputElement = document.getElementById(outputId);\n",
              "  // Cache steps on the outputElement to make it available for the next call\n",
              "  // to uploadFilesContinue from Python.\n",
              "  outputElement.steps = steps;\n",
              "\n",
              "  return _uploadFilesContinue(outputId);\n",
              "}\n",
              "\n",
              "// This is roughly an async generator (not supported in the browser yet),\n",
              "// where there are multiple asynchronous steps and the Python side is going\n",
              "// to poll for completion of each step.\n",
              "// This uses a Promise to block the python side on completion of each step,\n",
              "// then passes the result of the previous step as the input to the next step.\n",
              "function _uploadFilesContinue(outputId) {\n",
              "  const outputElement = document.getElementById(outputId);\n",
              "  const steps = outputElement.steps;\n",
              "\n",
              "  const next = steps.next(outputElement.lastPromiseValue);\n",
              "  return Promise.resolve(next.value.promise).then((value) => {\n",
              "    // Cache the last promise value to make it available to the next\n",
              "    // step of the generator.\n",
              "    outputElement.lastPromiseValue = value;\n",
              "    return next.value.response;\n",
              "  });\n",
              "}\n",
              "\n",
              "/**\n",
              " * Generator function which is called between each async step of the upload\n",
              " * process.\n",
              " * @param {string} inputId Element ID of the input file picker element.\n",
              " * @param {string} outputId Element ID of the output display.\n",
              " * @return {!Iterable<!Object>} Iterable of next steps.\n",
              " */\n",
              "function* uploadFilesStep(inputId, outputId) {\n",
              "  const inputElement = document.getElementById(inputId);\n",
              "  inputElement.disabled = false;\n",
              "\n",
              "  const outputElement = document.getElementById(outputId);\n",
              "  outputElement.innerHTML = '';\n",
              "\n",
              "  const pickedPromise = new Promise((resolve) => {\n",
              "    inputElement.addEventListener('change', (e) => {\n",
              "      resolve(e.target.files);\n",
              "    });\n",
              "  });\n",
              "\n",
              "  const cancel = document.createElement('button');\n",
              "  inputElement.parentElement.appendChild(cancel);\n",
              "  cancel.textContent = 'Cancel upload';\n",
              "  const cancelPromise = new Promise((resolve) => {\n",
              "    cancel.onclick = () => {\n",
              "      resolve(null);\n",
              "    };\n",
              "  });\n",
              "\n",
              "  // Wait for the user to pick the files.\n",
              "  const files = yield {\n",
              "    promise: Promise.race([pickedPromise, cancelPromise]),\n",
              "    response: {\n",
              "      action: 'starting',\n",
              "    }\n",
              "  };\n",
              "\n",
              "  cancel.remove();\n",
              "\n",
              "  // Disable the input element since further picks are not allowed.\n",
              "  inputElement.disabled = true;\n",
              "\n",
              "  if (!files) {\n",
              "    return {\n",
              "      response: {\n",
              "        action: 'complete',\n",
              "      }\n",
              "    };\n",
              "  }\n",
              "\n",
              "  for (const file of files) {\n",
              "    const li = document.createElement('li');\n",
              "    li.append(span(file.name, {fontWeight: 'bold'}));\n",
              "    li.append(span(\n",
              "        `(${file.type || 'n/a'}) - ${file.size} bytes, ` +\n",
              "        `last modified: ${\n",
              "            file.lastModifiedDate ? file.lastModifiedDate.toLocaleDateString() :\n",
              "                                    'n/a'} - `));\n",
              "    const percent = span('0% done');\n",
              "    li.appendChild(percent);\n",
              "\n",
              "    outputElement.appendChild(li);\n",
              "\n",
              "    const fileDataPromise = new Promise((resolve) => {\n",
              "      const reader = new FileReader();\n",
              "      reader.onload = (e) => {\n",
              "        resolve(e.target.result);\n",
              "      };\n",
              "      reader.readAsArrayBuffer(file);\n",
              "    });\n",
              "    // Wait for the data to be ready.\n",
              "    let fileData = yield {\n",
              "      promise: fileDataPromise,\n",
              "      response: {\n",
              "        action: 'continue',\n",
              "      }\n",
              "    };\n",
              "\n",
              "    // Use a chunked sending to avoid message size limits. See b/62115660.\n",
              "    let position = 0;\n",
              "    do {\n",
              "      const length = Math.min(fileData.byteLength - position, MAX_PAYLOAD_SIZE);\n",
              "      const chunk = new Uint8Array(fileData, position, length);\n",
              "      position += length;\n",
              "\n",
              "      const base64 = btoa(String.fromCharCode.apply(null, chunk));\n",
              "      yield {\n",
              "        response: {\n",
              "          action: 'append',\n",
              "          file: file.name,\n",
              "          data: base64,\n",
              "        },\n",
              "      };\n",
              "\n",
              "      let percentDone = fileData.byteLength === 0 ?\n",
              "          100 :\n",
              "          Math.round((position / fileData.byteLength) * 100);\n",
              "      percent.textContent = `${percentDone}% done`;\n",
              "\n",
              "    } while (position < fileData.byteLength);\n",
              "  }\n",
              "\n",
              "  // All done.\n",
              "  yield {\n",
              "    response: {\n",
              "      action: 'complete',\n",
              "    }\n",
              "  };\n",
              "}\n",
              "\n",
              "scope.google = scope.google || {};\n",
              "scope.google.colab = scope.google.colab || {};\n",
              "scope.google.colab._files = {\n",
              "  _uploadFiles,\n",
              "  _uploadFilesContinue,\n",
              "};\n",
              "})(self);\n",
              "</script> "
            ]
          },
          "metadata": {}
        },
        {
          "output_type": "stream",
          "name": "stdout",
          "text": [
            "Saving kaggle.json to kaggle.json\n"
          ]
        },
        {
          "output_type": "execute_result",
          "data": {
            "text/plain": [
              "{'kaggle.json': b'{\"username\":\"sebastianpinocy\",\"key\":\"da22becf103b941cc17661b65ab9e2ea\"}'}"
            ]
          },
          "metadata": {},
          "execution_count": 4
        }
      ]
    },
    {
      "cell_type": "code",
      "source": [
        "!ls -lha kaggle.json"
      ],
      "metadata": {
        "colab": {
          "base_uri": "https://localhost:8080/"
        },
        "id": "sheZ2Pr1Dt-0",
        "outputId": "51e36c6a-cedc-4777-a87c-8349afce0fb5"
      },
      "execution_count": null,
      "outputs": [
        {
          "output_type": "stream",
          "name": "stdout",
          "text": [
            "-rw-r--r-- 1 root root 71 May 31 14:29 kaggle.json\n"
          ]
        }
      ]
    },
    {
      "cell_type": "code",
      "source": [
        "!pip install -q kaggle"
      ],
      "metadata": {
        "id": "EFRDMp1ZDwvi"
      },
      "execution_count": null,
      "outputs": []
    },
    {
      "cell_type": "code",
      "source": [
        "!mkdir -p ~/.kaggle\n"
      ],
      "metadata": {
        "id": "qQlM9U6iD6j-"
      },
      "execution_count": null,
      "outputs": []
    },
    {
      "cell_type": "code",
      "source": [
        "!cp kaggle.json ~/.kaggle/"
      ],
      "metadata": {
        "id": "i_j401rgD9cs"
      },
      "execution_count": null,
      "outputs": []
    },
    {
      "cell_type": "code",
      "source": [
        "!chmod 600 /root/.kaggle/kaggle.json"
      ],
      "metadata": {
        "id": "rjf4onkaD__X"
      },
      "execution_count": null,
      "outputs": []
    },
    {
      "cell_type": "code",
      "source": [
        "!pwd"
      ],
      "metadata": {
        "colab": {
          "base_uri": "https://localhost:8080/"
        },
        "id": "W44jPW4jEDeP",
        "outputId": "64e7d89b-c081-407f-9fc4-7e9881ebaec6"
      },
      "execution_count": null,
      "outputs": [
        {
          "output_type": "stream",
          "name": "stdout",
          "text": [
            "/content\n"
          ]
        }
      ]
    },
    {
      "cell_type": "code",
      "source": [
        "!kaggle datasets list"
      ],
      "metadata": {
        "colab": {
          "base_uri": "https://localhost:8080/"
        },
        "id": "P0udP1x3EG9M",
        "outputId": "6748e3cf-8d9b-401a-f44d-844165a30421"
      },
      "execution_count": null,
      "outputs": [
        {
          "output_type": "stream",
          "name": "stdout",
          "text": [
            "ref                                                            title                                               size  lastUpdated          downloadCount  voteCount  usabilityRating  \n",
            "-------------------------------------------------------------  -------------------------------------------------  -----  -------------------  -------------  ---------  ---------------  \n",
            "zeesolver/spotfy                                               Spotify Songs Album                                 47KB  2024-05-10 09:21:57           2762         39  1.0              \n",
            "rohit265/credit-card-eligibility-data-determining-factors      Credit Card Eligibility Data: Determining Factors  296KB  2024-05-18 11:31:28           1554         30  1.0              \n",
            "guavocado/pokemon-stats-1025-pokemons                          Pokemon Stats (1025 Pokemons)                       44KB  2024-05-02 08:12:36           1375         27  1.0              \n",
            "rejeph/air-pollution                                           air_pollution                                        2MB  2024-05-27 04:58:51            546         21  0.9411765        \n",
            "rahulvyasm/netflix-movies-and-tv-shows                         Netflix Movies and TV Shows                          1MB  2024-04-10 09:48:38          26382        563  1.0              \n",
            "muhammadroshaanriaz/heatwave-excessive-heat-anomalies-by-year  Heatwave Anomalies Of The World by Years            82KB  2024-05-28 07:37:46            532         25  1.0              \n",
            "jainaru/thyroid-disease-data                                   Thyroid Disease Data                                 3KB  2024-05-10 12:06:31           3881         87  1.0              \n",
            "prasad22/vehicle-population-statistics                         Vehicle Population Statistics                       44KB  2024-05-25 03:31:34            953         30  1.0              \n",
            "prasad22/weather-data                                          Weather Data                                        43MB  2024-05-18 14:27:35           2059         48  1.0              \n",
            "emirhanai/social-media-usage-and-emotional-well-being          Social Media Usage and Emotional Well-Being          8KB  2024-05-19 18:25:52           2486         47  1.0              \n",
            "mayankanand2701/netflix-stock-price-dataset                    Netflix Stock Price Dataset 🎥🍿🎬📊                   107KB  2024-05-25 06:59:35            770         33  1.0              \n",
            "bhargavlc/studentsperformance                                  StudentsPerformance                                  3KB  2024-05-28 09:44:50           1423         28  1.0              \n",
            "khushikhushikhushi/amazon-bestselling-books                    Amazon Bestselling Books                             4KB  2024-05-23 13:59:52           1021         26  1.0              \n",
            "sahirmaharajj/school-student-daily-attendance                  School Student Daily Attendance                      2MB  2024-04-29 19:29:56           7497        151  1.0              \n",
            "kanchana1990/perfume-e-commerce-dataset-2024                   Perfume E-Commerce Dataset 2024                    106KB  2024-05-24 18:53:32            851         32  1.0              \n",
            "girumwondemagegn/dataset-for-renewable-energy-systems          Dataset for renewable energy systems               853KB  2024-05-17 23:51:25           1361         32  1.0              \n",
            "jainaru/dog-breeds-ranking-best-to-worst                       Dog breeds ranked 🐕🐾                                 4KB  2024-05-18 13:28:47            904         34  1.0              \n",
            "vladimirmijatovic/biggest-companies-in-the-world               Biggest Companies in the World                     189KB  2024-05-16 13:39:09            711         31  1.0              \n",
            "aadarshvelu/heart-failure-prediction-clinical-records          Heart Failure Prediction - Clinical Records 🏥       29KB  2024-05-05 08:19:49           2791         62  1.0              \n",
            "sarahjeffreson/featured-spotify-artiststracks-with-metadata    Featured Spotify artists/tracks with metadata        5MB  2024-05-15 19:38:13            793         31  1.0              \n"
          ]
        }
      ]
    },
    {
      "cell_type": "code",
      "source": [
        "!kaggle datasets download -d dataturks/face-detection-in-images"
      ],
      "metadata": {
        "colab": {
          "base_uri": "https://localhost:8080/"
        },
        "id": "n3KzX1iNEVlk",
        "outputId": "7441ef7d-2a80-408b-c62b-a1fe2afc0631"
      },
      "execution_count": null,
      "outputs": [
        {
          "output_type": "stream",
          "name": "stdout",
          "text": [
            "Dataset URL: https://www.kaggle.com/datasets/dataturks/face-detection-in-images\n",
            "License(s): unknown\n",
            "Downloading face-detection-in-images.zip to /content\n",
            "  0% 0.00/55.3k [00:00<?, ?B/s]\n",
            "100% 55.3k/55.3k [00:00<00:00, 59.3MB/s]\n"
          ]
        }
      ]
    },
    {
      "cell_type": "code",
      "source": [
        "!pwd"
      ],
      "metadata": {
        "colab": {
          "base_uri": "https://localhost:8080/"
        },
        "id": "HnVP1ocLE2rX",
        "outputId": "411b42f6-2155-4740-af9b-dacbcf4c514d"
      },
      "execution_count": null,
      "outputs": [
        {
          "output_type": "stream",
          "name": "stdout",
          "text": [
            "/content\n"
          ]
        }
      ]
    },
    {
      "cell_type": "code",
      "source": [
        "!ls"
      ],
      "metadata": {
        "colab": {
          "base_uri": "https://localhost:8080/"
        },
        "id": "rDJxbEeBE5mB",
        "outputId": "afbc6a45-94c2-4803-822a-9e648ec48da9"
      },
      "execution_count": null,
      "outputs": [
        {
          "output_type": "stream",
          "name": "stdout",
          "text": [
            "face-detection-in-images.zip  gdrive  kaggle.json  sample_data\n"
          ]
        }
      ]
    },
    {
      "cell_type": "code",
      "source": [
        "!unzip face-detection-in-images.zip"
      ],
      "metadata": {
        "colab": {
          "base_uri": "https://localhost:8080/"
        },
        "id": "v-N8UP1eE8ha",
        "outputId": "8051c768-85bd-4188-94ee-238d86d0fe39"
      },
      "execution_count": null,
      "outputs": [
        {
          "output_type": "stream",
          "name": "stdout",
          "text": [
            "Archive:  face-detection-in-images.zip\n",
            "  inflating: face_detection.json     \n"
          ]
        }
      ]
    },
    {
      "cell_type": "code",
      "source": [
        "!ls"
      ],
      "metadata": {
        "colab": {
          "base_uri": "https://localhost:8080/"
        },
        "id": "KpWkrmXMFCP_",
        "outputId": "1123151b-1e81-4246-b5f4-c30d9e746411"
      },
      "execution_count": null,
      "outputs": [
        {
          "output_type": "stream",
          "name": "stdout",
          "text": [
            "face-detection-in-images.zip  face_detection.json  gdrive  kaggle.json\tsample_data\n"
          ]
        }
      ]
    },
    {
      "cell_type": "code",
      "source": [
        "import json\n",
        "import pandas as pd"
      ],
      "metadata": {
        "id": "FvQu8luLFYmc"
      },
      "execution_count": null,
      "outputs": []
    },
    {
      "cell_type": "code",
      "source": [
        "raw_data_elements = []\n",
        "with open('face_detection.json', 'r') as file:\n",
        "    for line in file:\n",
        "        raw_data_elements.append(json.loads(line))"
      ],
      "metadata": {
        "id": "jzSDQKnPFhmy"
      },
      "execution_count": null,
      "outputs": []
    },
    {
      "cell_type": "code",
      "source": [
        "print(raw_data_elements[0])"
      ],
      "metadata": {
        "colab": {
          "base_uri": "https://localhost:8080/"
        },
        "id": "ARvtIDzpG_gG",
        "outputId": "25146ba9-aee1-4a7c-9c3d-7bbdcfbc099a"
      },
      "execution_count": null,
      "outputs": [
        {
          "output_type": "stream",
          "name": "stdout",
          "text": [
            "{'content': 'http://com.dataturks.a96-i23.open.s3.amazonaws.com/2c9fafb064277d86016431e33e4e003d/8186c3d1-e9d4-4550-8ec1-a062a7628787___0-26.jpg.jpeg', 'annotation': [{'label': ['Face'], 'notes': '', 'points': [{'x': 0.08615384615384615, 'y': 0.3063063063063063}, {'x': 0.1723076923076923, 'y': 0.45345345345345345}], 'imageWidth': 650, 'imageHeight': 333}, {'label': ['Face'], 'notes': '', 'points': [{'x': 0.583076923076923, 'y': 0.2912912912912913}, {'x': 0.6584615384615384, 'y': 0.46846846846846846}], 'imageWidth': 650, 'imageHeight': 333}], 'extras': None}\n"
          ]
        }
      ]
    },
    {
      "cell_type": "code",
      "source": [
        "class DataElement:\n",
        "  def __init__(self, url, bboxes, meta_data):\n",
        "        self.url = url\n",
        "        self.bboxes = bboxes\n",
        "        self.meta_data = meta_data"
      ],
      "metadata": {
        "id": "p9eMCWAtHl6D"
      },
      "execution_count": null,
      "outputs": []
    },
    {
      "cell_type": "code",
      "source": [
        "data_elements = []\n",
        "for raw_data_element in raw_data_elements:\n",
        "  url = raw_data_element['content']\n",
        "  bboxes = []\n",
        "  annotations = raw_data_element['annotation']\n",
        "  for annotation in annotations:\n",
        "    left_up = annotation['points'][0]\n",
        "    right_down = annotation['points'][1]\n",
        "    image_width = annotation['imageWidth']\n",
        "    image_height = annotation['imageHeight']\n",
        "    bboxes.append((left_up['x'],left_up['y'],right_down['x']-left_up['x'],right_down['y']-left_up['y']))\n",
        "  data_element = DataElement(url,bboxes,(image_width,image_height))\n",
        "  data_elements.append(data_element)\n",
        "\n"
      ],
      "metadata": {
        "id": "T4pby1kkKe5R"
      },
      "execution_count": null,
      "outputs": []
    },
    {
      "cell_type": "code",
      "source": [
        "print(len(data_elements))"
      ],
      "metadata": {
        "colab": {
          "base_uri": "https://localhost:8080/"
        },
        "id": "6v4qGp-bQmN9",
        "outputId": "56498ab7-77a1-4a0f-e136-53a4e5490da7"
      },
      "execution_count": null,
      "outputs": [
        {
          "output_type": "stream",
          "name": "stdout",
          "text": [
            "409\n"
          ]
        }
      ]
    }
  ]
}